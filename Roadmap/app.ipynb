{
 "cells": [
  {
   "cell_type": "code",
   "execution_count": 6,
   "metadata": {},
   "outputs": [],
   "source": [
    "from google.oauth2 import service_account\n",
    "from googleapiclient.discovery import build\n",
    "from googleapiclient.http import MediaFileUpload, MediaIoBaseDownload\n",
    "import io\n",
    "from google_auth_oauthlib.flow import InstalledAppFlow\n",
    "import json"
   ]
  },
  {
   "cell_type": "code",
   "execution_count": 2,
   "metadata": {},
   "outputs": [
    {
     "name": "stdout",
     "output_type": "stream",
     "text": [
      "Please visit this URL to authorize this application: https://accounts.google.com/o/oauth2/auth?response_type=code&client_id=469225323420-88njph3j4javkt068v6iv58v120g8fk9.apps.googleusercontent.com&redirect_uri=http%3A%2F%2Flocalhost%3A50779%2F&scope=https%3A%2F%2Fwww.googleapis.com%2Fauth%2Fdrive&state=QQXOQiW3FrTuJVo2yt5E2LopqU7RsN&access_type=offline\n"
     ]
    }
   ],
   "source": [
    "SCOPES = ['https://www.googleapis.com/auth/drive']\n",
    "\n",
    "# Authenticate using the service account\n",
    "flow = InstalledAppFlow.from_client_secrets_file(\"../credentials_desktop.json\",scopes=SCOPES)\n",
    "\n",
    "credentials = flow.run_local_server(port=0)"
   ]
  },
  {
   "cell_type": "code",
   "execution_count": 3,
   "metadata": {},
   "outputs": [
    {
     "data": {
      "text/plain": [
       "<google.oauth2.credentials.Credentials at 0x28d19b4cf90>"
      ]
     },
     "execution_count": 3,
     "metadata": {},
     "output_type": "execute_result"
    }
   ],
   "source": [
    "credentials"
   ]
  },
  {
   "cell_type": "code",
   "execution_count": 4,
   "metadata": {},
   "outputs": [],
   "source": [
    "try:\n",
    "    service = build('drive', 'v3', credentials=credentials)\n",
    "except:\n",
    "    print('Unauthorized')"
   ]
  },
  {
   "cell_type": "code",
   "execution_count": 7,
   "metadata": {},
   "outputs": [
    {
     "name": "stdout",
     "output_type": "stream",
     "text": [
      "Download progress: 100%\n"
     ]
    }
   ],
   "source": [
    "file_id = \"1d-oQVxq6_VvOqYxAzHH1EcMLEaq9Jsyk\"\n",
    "\n",
    "request = service.files().get_media(fileId=file_id)\n",
    "file_stream = io.BytesIO()\n",
    "downloader = MediaIoBaseDownload(file_stream, request)\n",
    "\n",
    "done = False\n",
    "while not done:\n",
    "    status, done = downloader.next_chunk()\n",
    "    print(f\"Download progress: {int(status.progress() * 100)}%\")\n",
    "\n",
    "# Parse the JSON content\n",
    "file_stream.seek(0)\n",
    "json_data = json.load(file_stream)"
   ]
  },
  {
   "cell_type": "code",
   "execution_count": 8,
   "metadata": {},
   "outputs": [
    {
     "data": {
      "text/plain": [
       "{'name': 'hello world', 'roll': '17', 'class': '8-A'}"
      ]
     },
     "execution_count": 8,
     "metadata": {},
     "output_type": "execute_result"
    }
   ],
   "source": [
    "json_data"
   ]
  },
  {
   "cell_type": "code",
   "execution_count": 9,
   "metadata": {},
   "outputs": [
    {
     "ename": "SyntaxError",
     "evalue": "'return' outside function (1369856135.py, line 22)",
     "output_type": "error",
     "traceback": [
      "\u001b[1;36m  Cell \u001b[1;32mIn[9], line 22\u001b[1;36m\u001b[0m\n\u001b[1;33m    return folder.get('id')\u001b[0m\n\u001b[1;37m    ^\u001b[0m\n\u001b[1;31mSyntaxError\u001b[0m\u001b[1;31m:\u001b[0m 'return' outside function\n"
     ]
    }
   ],
   "source": [
    "parent_id = \"1V5MRLO7Rz-A1-iA597io9hJs-J-oZr8V\"\n",
    "folder_name = \"VLSI\"\n",
    "\n",
    "\"\"\"Create a folder in Google Drive.\n",
    "\n",
    "Args:\n",
    "    folder_name (str): The name of the folder to create.\n",
    "    parent_id (str, optional): The ID of the parent folder. If None, creates the folder in root.\n",
    "\n",
    "Returns:\n",
    "    str: The ID of the created folder.\n",
    "\"\"\"\n",
    "file_metadata = {\n",
    "    'name': folder_name,\n",
    "    'mimeType': 'application/vnd.google-apps.folder',\n",
    "}\n",
    "\n",
    "if parent_id:\n",
    "    file_metadata['parents'] = [parent_id]\n",
    "\n",
    "folder = service.files().create(body=file_metadata, fields='id').execute()\n",
    "\n",
    "print(folder.get('id'))"
   ]
  }
 ],
 "metadata": {
  "kernelspec": {
   "display_name": "env",
   "language": "python",
   "name": "python3"
  },
  "language_info": {
   "codemirror_mode": {
    "name": "ipython",
    "version": 3
   },
   "file_extension": ".py",
   "mimetype": "text/x-python",
   "name": "python",
   "nbconvert_exporter": "python",
   "pygments_lexer": "ipython3",
   "version": "3.11.4"
  }
 },
 "nbformat": 4,
 "nbformat_minor": 2
}
